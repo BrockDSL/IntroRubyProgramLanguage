{
  "cells": [
    {
      "cell_type": "markdown",
      "metadata": {
        "id": "QXDaEwomTZYn"
      },
      "source": [
        "![DSL_logo](https://github.com/BrockDSL/Intro_to_Python_Workshop/blob/master/dsl_logo.png?raw=1)\n",
        "\n",
        "\n",
        "# Introduction to Ruby!\n",
        "\n",
        "The purpose of this tutorial with embedded Youtube videos is to allow self-directed learning of the Ruby programming language. Read the information in each section, and watch each section's respective video to get further clarification and to watch a demonstration of each concept in action.\n",
        "\n",
        "Welcome to the Digital Scholarship Lab introduction to Ruby class. By the end of today we'll know all about the following;\n",
        "- variables\n",
        "- math\n",
        "- conditional\n",
        "- loops\n",
        "- functions\n",
        "\n",
        "All of these basic elements of Ruby will give you a solid foundation for learning Ruby on Rails. Much of the syntax in Ruby is similar to other programming languages like Python.\n",
        "\n",
        "Be sure to 'Save a Copy in drive' under the File menu so that you can have a copy saved on your computer for future ease of reference.\n",
        "\n",
        "While there used to be ways to write Ruby code in Google Colab, the updated versions unfortunately no longer allow it. Therefore, please create a ruby file in Atom, and re-write the bits of code from the videos to check your understanding. Note that you will sometimes have to delete code you wrote from previous sections in order for the new codes to run properly."
      ]
    },
    {
      "cell_type": "markdown",
      "metadata": {
        "id": "gRnahZTbTZYr"
      },
      "source": [
        "## Ruby via Atom\n",
        "\n",
        "- Atom is a text editor to write codes using languages like Ruby\n",
        "- Atom is usually already installed on Macs\n",
        "- Go to the following link to download it on Windows (or Mac)\n",
        "  - https://flight-manual.atom.io/getting-started/sections/installing-atom/#platform-windows\n",
        "- Each bit of code is in a 'cell', with line numbers at the beginning. To run the code, we hit Command i on a mac, or ctrl r on a pc\n"
      ]
    },
    {
      "cell_type": "markdown",
      "source": [
        "##Watch the video below to see how to launch Atom, and how to install the packages necessary to run Ruby code.\n",
        "\n",
        "- On a Mac, you can hit Command + spacebar to launch the spotlight search box, whereby you can then type atom to find the program\n",
        "- In Atom, to create a new notebook, click file -> new file. Name it whatever you want, but include the file type within the name so that the file is recognized as a Ruby file (i.e. `NewRuby.rb`)\n",
        "- Next to file, go to Atom -> preferences to show the pane on the righthand side of the screen with the section `install`. Click on `install` to show the search bar\n",
        "  - Install the following packages:\n",
        "    - atom-runner\n",
        "    - atom-terminal\n",
        "    - script\n",
        "    "
      ],
      "metadata": {
        "id": "5TE4pMwswj1x"
      }
    },
    {
      "cell_type": "code",
      "source": [
        "#@title\n",
        "from IPython.display import YouTubeVideo\n",
        "YouTubeVideo('y2R_11yWwR4')"
      ],
      "metadata": {
        "colab": {
          "base_uri": "https://localhost:8080/",
          "height": 321
        },
        "cellView": "form",
        "id": "SBK-hSjEmJ17",
        "outputId": "ea0c7d23-c052-4170-c351-bfc8ee2a5cfd"
      },
      "execution_count": 1,
      "outputs": [
        {
          "output_type": "execute_result",
          "data": {
            "text/html": [
              "\n",
              "        <iframe\n",
              "            width=\"400\"\n",
              "            height=\"300\"\n",
              "            src=\"https://www.youtube.com/embed/y2R_11yWwR4\"\n",
              "            frameborder=\"0\"\n",
              "            allowfullscreen\n",
              "        ></iframe>\n",
              "        "
            ],
            "text/plain": [
              "<IPython.lib.display.YouTubeVideo at 0x7fd4e9bbf790>"
            ]
          },
          "metadata": {},
          "execution_count": 1
        }
      ]
    },
    {
      "cell_type": "markdown",
      "metadata": {
        "id": "7cWU-sbdTZYt"
      },
      "source": [
        "***\n",
        "\n",
        "## Variables, Printing and Comments\n",
        "\n",
        "- Variable can hold values and come in different types\n",
        "  - Variable names can be anything you want, but if it consists of two words, you need to join them together somehow. Recomendations include:\n",
        "  - using underscores i.e. user_name\n",
        "  - Using capital letters i.e. UserName\n",
        "- variables can all be strings, integers, real numbers, or pretty much anything else\n",
        "- when we want to print something we use the function `print` or `puts`\n",
        "  - You do not need to add `()` at the end like you do for other programming languages, but if you put them in anyway (i.e. `print()` and `puts()`, it will still run properly)!\n",
        "- Anything after a `#` is a comment, it is ignored by Ruby, and you optionally write comments simply to remind you what the code is about.\n",
        "\n",
        "- Examples of variables:\n",
        "```\n",
        "#Types of Variables\n",
        "#Variable type 1: String Variable\n",
        "firstName = \"Rachael\"\n",
        "#Variable type 2: Integer Number\n",
        "numberOfHands = 2\n",
        "#Variable type 3: Real number\n",
        "pi = 3.14\n",
        "#Variable type 4: Boolean Values\n",
        "isName = true\n",
        "#Variable type 5: Empty Variable\n",
        "lastName = nil\n",
        "```"
      ]
    },
    {
      "cell_type": "markdown",
      "source": [
        "##Watch the video below to learn more on Variables in Ruby"
      ],
      "metadata": {
        "id": "OSspamKYySNN"
      }
    },
    {
      "cell_type": "code",
      "source": [
        "#@title\n",
        "from IPython.display import YouTubeVideo\n",
        "YouTubeVideo('zyUjq0Mgj7E')"
      ],
      "metadata": {
        "colab": {
          "base_uri": "https://localhost:8080/",
          "height": 321
        },
        "cellView": "form",
        "id": "31IRxQeNm0Xs",
        "outputId": "35de0123-bee5-4be4-bed2-c044771247d6"
      },
      "execution_count": 2,
      "outputs": [
        {
          "output_type": "execute_result",
          "data": {
            "text/html": [
              "\n",
              "        <iframe\n",
              "            width=\"400\"\n",
              "            height=\"300\"\n",
              "            src=\"https://www.youtube.com/embed/zyUjq0Mgj7E\"\n",
              "            frameborder=\"0\"\n",
              "            allowfullscreen\n",
              "        ></iframe>\n",
              "        "
            ],
            "text/plain": [
              "<IPython.lib.display.YouTubeVideo at 0x7fd4e5cfa850>"
            ]
          },
          "metadata": {},
          "execution_count": 2
        }
      ]
    },
    {
      "cell_type": "markdown",
      "source": [
        "# How to get Input from the user \n",
        "\n",
        "To prompt the user to type in some input to store in a variable that can print to the screen, first ensure you have an atom-terminal package installed in Atom (refer to first video). Then, click the `+` sign at the bottom left hand corner of the Atom screen to launch the terminal\n",
        "- Before typing anything in the terminal, type a prompt message to be printed to the screen by doing the following:\n",
        "  - write `puts` or `print` before the quotation-enclosed message (so that the message prints to the terminal), and a space between that function and the string\n",
        "  - ex. `puts \"What is your name? \"`\n",
        "- Then hit enter to start the next line, and set a variable equal to `gets`, the function that stores input\n",
        "  - ex. `name = gets`\n",
        "    - add .chomp to it if you have a string to be joined on the same line after the inputted value.\n",
        "    i.e. `name = gets` \n",
        "- Then type a string to be printed to the screen that includes the gets variable. That way, the user will have to enter in something before the string can print to the screen.\n",
        "  - ex. `puts \"Hello \" + name + \", how are you?\"`\n",
        "    - As this sentence has strings to be joined after the `name` variable gets input, go back to the name variable, and add .chomp() after `gets` to ensure that everything gets printed on the same line.\n",
        "      - i.e. `name = gets.chomp()`\n",
        "- Once finished typing the code in Atom, go to the Atom terminal, and beside your computer's username, type in ruby filename.rb (replace 'filename' with the name you gave your ruby notebook), and hit enter. You will get the prompt in the terminal to type in input into the terminal. Once done, hit enter, and the complete sentence should print to the terminal.\n",
        "\n",
        "###Watch the video below to see an example of getting input from a user using the terminal\n",
        "  \n"
      ],
      "metadata": {
        "id": "v6uwA6UAolXs"
      }
    },
    {
      "cell_type": "code",
      "source": [
        "#@title\n",
        "from IPython.display import YouTubeVideo\n",
        "YouTubeVideo('2B7dfhPTxYQ')"
      ],
      "metadata": {
        "colab": {
          "base_uri": "https://localhost:8080/",
          "height": 321
        },
        "cellView": "form",
        "id": "z7UUpR4joHvC",
        "outputId": "134dadb7-cce4-4257-b096-31c1ba08e1f3"
      },
      "execution_count": 4,
      "outputs": [
        {
          "output_type": "execute_result",
          "data": {
            "text/html": [
              "\n",
              "        <iframe\n",
              "            width=\"400\"\n",
              "            height=\"300\"\n",
              "            src=\"https://www.youtube.com/embed/2B7dfhPTxYQ\"\n",
              "            frameborder=\"0\"\n",
              "            allowfullscreen\n",
              "        ></iframe>\n",
              "        "
            ],
            "text/plain": [
              "<IPython.lib.display.YouTubeVideo at 0x7fd4e5cfa8d0>"
            ]
          },
          "metadata": {},
          "execution_count": 4
        }
      ]
    },
    {
      "cell_type": "markdown",
      "metadata": {
        "id": "nDGO_JmyTZYx"
      },
      "source": [
        "- If we want to combine things and print them all together we join them with at `+` just like we saw above\n",
        "\n",
        "`print(\"Hello \" + name)`"
      ]
    },
    {
      "cell_type": "markdown",
      "source": [
        "##Variables - Arrays\n",
        "\n",
        "A variable that stores more than one value is called an Array in Ruby\n",
        "  - Similar to what other programming languages call list variables\n",
        "  - Includes a variable name, and it is set equal to a list of items within square brackets, and separated by commas.\n",
        "  - The items within the square brackets are preceded by the word `Array`\n",
        "  - String values of course need to be enclosed by quotation marks\n",
        "  - Can contain different value types within the same array\n",
        "    - ex. `animals = Array[9,\"cat\",\"dog\",\"pig\",\"cow\"]`\n",
        "  - Each value in an array is attached to a number. The first value is assigned '0', the second value is '1', the third value is '2', and so on.\n",
        "    - This is important information when replacing or adding values\n",
        "      - To replace or add values, the syntax is the following:\n",
        "        - ArrayVariableName[NumericalPosition] = NewValue\n",
        "        - ex. Animals[0] = \"sheep\"\n",
        "        - ex. Animals[0] = 9\n",
        "  - To print the whole array to the screen, you write `puts` or `print ArrayVariableName`\n",
        "    - ex. `puts animals`\n",
        "    - Adding .sort prints the items in alphabetical order (but does not work if there are a mixture of value types in the array)\n",
        "    - Adding .reverse prints the values in reverse order\n",
        "  - To print a single value to the screen, do like the following:\n",
        "    - ex. `puts animals[4]`\n",
        "    - ex. `puts animals[-1]` (negative numbers print the last values)\n",
        "  - You can even create an empty array to store values in at a later time\n",
        "    - ex. `animals = Array.new`\n",
        "  \n",
        "\n",
        "###Watch the video below to see what you can do with Arrays"
      ],
      "metadata": {
        "id": "43uCNLDU4Qxx"
      }
    },
    {
      "cell_type": "code",
      "source": [
        "#@title\n",
        "from IPython.display import YouTubeVideo\n",
        "YouTubeVideo('QXUSLKai6Yo')"
      ],
      "metadata": {
        "colab": {
          "base_uri": "https://localhost:8080/",
          "height": 321
        },
        "cellView": "form",
        "id": "aIsdxczvo81x",
        "outputId": "3a197279-52e8-4909-a7c4-c1a3a07a7690"
      },
      "execution_count": 6,
      "outputs": [
        {
          "output_type": "execute_result",
          "data": {
            "text/html": [
              "\n",
              "        <iframe\n",
              "            width=\"400\"\n",
              "            height=\"300\"\n",
              "            src=\"https://www.youtube.com/embed/QXUSLKai6Yo\"\n",
              "            frameborder=\"0\"\n",
              "            allowfullscreen\n",
              "        ></iframe>\n",
              "        "
            ],
            "text/plain": [
              "<IPython.lib.display.YouTubeVideo at 0x7fd4e5ce7e50>"
            ]
          },
          "metadata": {},
          "execution_count": 6
        }
      ]
    },
    {
      "cell_type": "markdown",
      "source": [
        "***\n",
        "\n",
        "## Variables - Hashes\n",
        "\n",
        "- These are fancy variables\n",
        "- These are a bit more complicated as they hold both a 'key' and a 'value'.\n",
        "- Uses squiggly brackets `{}` instead of square brackets\n",
        "- each line starts with a key, followed by `=>` followed by the value the key represents\n",
        "\n",
        "  - ex. A hash of turkey prices at different stores\n",
        "  ```\n",
        "  #Hashe example: turkey prices at different stores\n",
        "turkey_prices = {\n",
        "    \"Zehrs\" => 30.99,\n",
        "    \"Walmart\" => 12.99,\n",
        "    \"Sobeys\" => 29.99,\n",
        "    \"Superstore\" => 23.99,\n",
        "    \"Loblaws\" => 15.99,\n",
        "    \"Metro\" => 17.99,\n",
        "    \"Freshco\" => 28.99\n",
        "    }\n",
        "  ```"
      ],
      "metadata": {
        "id": "2zME9U81HRwM"
      }
    },
    {
      "cell_type": "markdown",
      "metadata": {
        "id": "YB06olbFTZY5"
      },
      "source": [
        "- Since hashes are more complex, there are many ways to interact with them\n",
        "- We add `.values()` to get the values of the dictionary\n",
        "- We add `.keys()` to get the keys of the dictionary\n",
        "- We add `.length` to count how many values are in the hash or array\n",
        "  - Again, the `()` are not required for Ruby code to run, but many other programming languages require it\n",
        "- To print individual values, the syntax is similar to the following:\n",
        "  - puts `turkey_prices[\"Zehrs\"]`"
      ]
    },
    {
      "cell_type": "markdown",
      "source": [
        "###Watch the video below to see what you can do with hashes"
      ],
      "metadata": {
        "id": "H4eT0ND7F2EC"
      }
    },
    {
      "cell_type": "code",
      "source": [
        "#@title\n",
        "from IPython.display import YouTubeVideo\n",
        "YouTubeVideo('NZYINHS93Zo')"
      ],
      "metadata": {
        "colab": {
          "base_uri": "https://localhost:8080/",
          "height": 321
        },
        "cellView": "form",
        "id": "CW-IX6LtphwE",
        "outputId": "fd0040f8-29e5-4f4c-abc8-c68621d4bbb3"
      },
      "execution_count": 7,
      "outputs": [
        {
          "output_type": "execute_result",
          "data": {
            "text/html": [
              "\n",
              "        <iframe\n",
              "            width=\"400\"\n",
              "            height=\"300\"\n",
              "            src=\"https://www.youtube.com/embed/NZYINHS93Zo\"\n",
              "            frameborder=\"0\"\n",
              "            allowfullscreen\n",
              "        ></iframe>\n",
              "        "
            ],
            "text/plain": [
              "<IPython.lib.display.YouTubeVideo at 0x7fd4e9bbf2d0>"
            ]
          },
          "metadata": {},
          "execution_count": 7
        }
      ]
    },
    {
      "cell_type": "markdown",
      "metadata": {
        "id": "2L9_StNOTZYz"
      },
      "source": [
        "- We can print a hash in a very similar way to other variables like we saw earlier.\n",
        "  - ex. `puts turkey_prices` "
      ]
    },
    {
      "cell_type": "markdown",
      "metadata": {
        "id": "TirqwmoBTZY1"
      },
      "source": [
        "***\n",
        "\n",
        "## Doing Math\n",
        "\n",
        "As you'd expect with a programming language Ruby is pretty good at doing math. The basic operators you can use are as follows:\n",
        "\n",
        "- `*` is for multiplication\n",
        "- `+` is for addition\n",
        "- `-` is the subtraction\n",
        "- `%` is the remainder\n",
        "- `/` is division\n",
        "- `**` is for exponents\n",
        "\n",
        "- If you want the decimal value of a division to show, then add .0 onto the integer being divided. ex. 56.0\n",
        "\n",
        "###Watch the video below to see how you can use math in Ruby"
      ]
    },
    {
      "cell_type": "code",
      "source": [
        "#@title\n",
        "from IPython.display import YouTubeVideo\n",
        "YouTubeVideo('tFhLYHh9kX8')"
      ],
      "metadata": {
        "colab": {
          "base_uri": "https://localhost:8080/",
          "height": 321
        },
        "cellView": "form",
        "id": "xzLpVLgAna1E",
        "outputId": "26477ce3-69f7-4c4f-a5f0-991833edcb77"
      },
      "execution_count": 3,
      "outputs": [
        {
          "output_type": "execute_result",
          "data": {
            "text/html": [
              "\n",
              "        <iframe\n",
              "            width=\"400\"\n",
              "            height=\"300\"\n",
              "            src=\"https://www.youtube.com/embed/tFhLYHh9kX8\"\n",
              "            frameborder=\"0\"\n",
              "            allowfullscreen\n",
              "        ></iframe>\n",
              "        "
            ],
            "text/plain": [
              "<IPython.lib.display.YouTubeVideo at 0x7fd4e5cfa390>"
            ]
          },
          "metadata": {},
          "execution_count": 3
        }
      ]
    },
    {
      "cell_type": "markdown",
      "metadata": {
        "id": "_Sl--bUxTZY3"
      },
      "source": [
        "*** \n",
        "\n",
        "## Loops \n",
        "\n",
        "- When we want to repeat the same thing over and over again we put it in something called a loop. \n",
        "- Ruby lets you do **a lot** with loops without typing in much text\n",
        "- We create a temporary variable that only exists in the loop\n",
        "  - ex. \n",
        "  ```\n",
        "  for turkey in turkey_prices.values\n",
        "        puts turkey\n",
        "  end\n",
        "  ```\n",
        "Here, `turkey` is the temporary variable that will be set to each value of the turkey_prices hash each time it runs through the loop. As you can see, all we want this loop to do is print each key's value in the hash.\n"
      ]
    },
    {
      "cell_type": "markdown",
      "metadata": {
        "id": "fYOW9gRaTZY3"
      },
      "source": [
        "- The basic structure of a loop for us looks like the following\n",
        "\n",
        "```\n",
        "for loop_variable in list_variable\n",
        "    #do this code\n",
        "end\n",
        "```\n",
        "\n",
        "- `loop_variable` is a temporary variable that only exists in the loop. As soon as you finish the loop this goes away\n",
        "- `list_variable` is the variable you'd like to loop through. Often an array or a hash\n",
        "- we type `end` on the line after the end of the loop to indicate the end of the code\n"
      ]
    },
    {
      "cell_type": "markdown",
      "metadata": {
        "id": "9gXALPV5TZY3"
      },
      "source": [
        "### Counting with Loops\n",
        "\n",
        "Very often we use loops to count things. Each time through the loop we update a running value or we increment a counter. "
      ]
    },
    {
      "cell_type": "markdown",
      "source": [
        "###Watch the video below to see examples of using loops"
      ],
      "metadata": {
        "id": "4amLJhd0Gn7o"
      }
    },
    {
      "cell_type": "code",
      "source": [
        "#@title\n",
        "from IPython.display import YouTubeVideo\n",
        "YouTubeVideo('NX0Ti_LRiKU')"
      ],
      "metadata": {
        "colab": {
          "base_uri": "https://localhost:8080/",
          "height": 321
        },
        "cellView": "form",
        "id": "XUi_XLkIqGXc",
        "outputId": "f8d9d443-04db-41d0-b16a-19b932835c05"
      },
      "execution_count": 8,
      "outputs": [
        {
          "output_type": "execute_result",
          "data": {
            "text/html": [
              "\n",
              "        <iframe\n",
              "            width=\"400\"\n",
              "            height=\"300\"\n",
              "            src=\"https://www.youtube.com/embed/NX0Ti_LRiKU\"\n",
              "            frameborder=\"0\"\n",
              "            allowfullscreen\n",
              "        ></iframe>\n",
              "        "
            ],
            "text/plain": [
              "<IPython.lib.display.YouTubeVideo at 0x7fd4e5d16110>"
            ]
          },
          "metadata": {},
          "execution_count": 8
        }
      ]
    },
    {
      "cell_type": "markdown",
      "metadata": {
        "id": "sIjVNUvtTZY5"
      },
      "source": [
        "***\n",
        "\n",
        "## Conditionals \n",
        "\n",
        "- When we want to run a piece of code only if something is true\n",
        "- We can compare with the following:\n",
        " - `==` Means a value 'is equal to'\n",
        " - `>=`\n",
        " - `<=`\n",
        " - `<`\n",
        " - `>` \n",
        " - `!=` Means 'not equal to'\n",
        " \n",
        " \n",
        " \n",
        " - When we just want to check one thing and if so run `code1`:\n",
        "```\n",
        "\n",
        "        if condition\n",
        "            code1\n",
        "        end\n",
        "```\n",
        "\n",
        " - When we want to check something and do code1 or code2 if it is not so\n",
        "\n",
        "```\n",
        "        if condition\n",
        "            code1\n",
        "        else:\n",
        "            code2\n",
        "        end\n",
        " ```\n",
        " - When we want to combine conditionals with loops:\n",
        " ```\n",
        "for LoopVariableName in HashOrArrayName\n",
        "      if condition\n",
        "        code1\n",
        "      else\n",
        "        code2\n",
        "      end\n",
        "end\n",
        "```\n",
        "Note the extra `end` in order to close the loop after ending the conditional"
      ]
    },
    {
      "cell_type": "markdown",
      "source": [
        "###Watch the video below to see how you can use conditionals"
      ],
      "metadata": {
        "id": "27lI9mH6G1Hi"
      }
    },
    {
      "cell_type": "code",
      "source": [
        "#@title\n",
        "from IPython.display import YouTubeVideo\n",
        "YouTubeVideo('IVVqmcn876M')"
      ],
      "metadata": {
        "colab": {
          "base_uri": "https://localhost:8080/",
          "height": 321
        },
        "cellView": "form",
        "id": "-lJD7dRLqoqY",
        "outputId": "56a69dfa-28a9-4bc0-ebfa-48ec267d2412"
      },
      "execution_count": 9,
      "outputs": [
        {
          "output_type": "execute_result",
          "data": {
            "text/html": [
              "\n",
              "        <iframe\n",
              "            width=\"400\"\n",
              "            height=\"300\"\n",
              "            src=\"https://www.youtube.com/embed/IVVqmcn876M\"\n",
              "            frameborder=\"0\"\n",
              "            allowfullscreen\n",
              "        ></iframe>\n",
              "        "
            ],
            "text/plain": [
              "<IPython.lib.display.YouTubeVideo at 0x7fd4e5cf0350>"
            ]
          },
          "metadata": {},
          "execution_count": 9
        }
      ]
    },
    {
      "cell_type": "markdown",
      "metadata": {
        "id": "waTOpvTRTZY7"
      },
      "source": [
        "***\n",
        "\n",
        "## Combining with boolean\n",
        "\n",
        "- Sometimes we want to combine conditionals because we want to test more complicated things\n",
        "- We can do this with the following:\n",
        " - `and`\n",
        " - `or`\n",
        " - `not`"
      ]
    },
    {
      "cell_type": "markdown",
      "metadata": {
        "id": "X4xvTBFrTZY8"
      },
      "source": [
        "***\n",
        "\n",
        "## Methodes\n",
        "- Also known as functions in other programming languages\n",
        "- Methods are bits of code that do a certain task in a certain way\n",
        "- We saw this earlier with the `print()` and `puts` function\n",
        "- some methods need _arguments_ or _paramaters_. We pass those in the the round brackets. \n",
        "- we can create our own methods too"
      ]
    },
    {
      "cell_type": "markdown",
      "metadata": {
        "id": "CAGnT-FPTZY9"
      },
      "source": [
        "The structure of a method looks like the following:\n",
        "\n",
        "\n",
        "```\n",
        "def name_of_method(variable)\n",
        "    return code\n",
        "end\n",
        "    \n",
        "```\n",
        "- The second line starts with `return`, followed by the code you want `name_of_method` to represent. \n",
        "  - If the code takes up more than one line, only write return on the last line of code to indicate the end of the method\n",
        "- You further need to indicate the end of the Ruby method by writing `end` on the last line.\n",
        "\n",
        "\n",
        "\n",
        "We've already seen how we call a method:\n",
        "\n",
        "```\n",
        "name_of_method(variable)\n",
        "\n",
        "```\n",
        "\n",
        "If you would like to print out the results of your method you need to surround it with the `print` or `puts` function\n",
        "\n",
        "```\n",
        "print name_of_method(value you want the method applied to)\n",
        "\n",
        "```\n",
        "Example of a method set up to do something to a value: finding the HST tax percentage of an item's price, and adding that value to the price to get the total cost of the item:\n",
        "```\n",
        "def tax(cost)\n",
        "  return cost * 0.15 + cost\n",
        "end\n",
        "\n",
        "puts tax(20.99)\n",
        "```\n",
        "Example of a method that just prints something to the screen: A method that prints 'Merry Christmas'\n",
        "\n",
        "```\n",
        "def xmas\n",
        "  puts \"Merry Christmas!\"\n",
        "end\n",
        "```\n",
        "As line 2 that specifies what the method does already includes the puts function, we can now simply write xmas, hit run, and it prints the string to the screen."
      ]
    },
    {
      "cell_type": "markdown",
      "source": [
        "###Watch the video below to see the results of the methods we just created, and how the tax method in particular can be applied to the turkey_prices hash from earlier to get the total price of each turkey.\n",
        "\n"
      ],
      "metadata": {
        "id": "DlCnm1b5HCuX"
      }
    },
    {
      "cell_type": "code",
      "source": [
        "#@title\n",
        "from IPython.display import YouTubeVideo\n",
        "YouTubeVideo('6zxamh2HCyA')"
      ],
      "metadata": {
        "colab": {
          "base_uri": "https://localhost:8080/",
          "height": 321
        },
        "cellView": "form",
        "id": "mm71xp-ErGas",
        "outputId": "8819319e-5a78-49c7-ec55-e9832ecda3c4"
      },
      "execution_count": 10,
      "outputs": [
        {
          "output_type": "execute_result",
          "data": {
            "text/html": [
              "\n",
              "        <iframe\n",
              "            width=\"400\"\n",
              "            height=\"300\"\n",
              "            src=\"https://www.youtube.com/embed/6zxamh2HCyA\"\n",
              "            frameborder=\"0\"\n",
              "            allowfullscreen\n",
              "        ></iframe>\n",
              "        "
            ],
            "text/plain": [
              "<IPython.lib.display.YouTubeVideo at 0x7fd4e5ce75d0>"
            ]
          },
          "metadata": {},
          "execution_count": 10
        }
      ]
    },
    {
      "cell_type": "markdown",
      "metadata": {
        "id": "6n3d62gKTZZA"
      },
      "source": [
        "***\n",
        "\n",
        "# Congrats!\n",
        "\n",
        "You now know the basics of Ruby. "
      ]
    }
  ],
  "metadata": {
    "kernelspec": {
      "display_name": "Python 3",
      "language": "python",
      "name": "python3"
    },
    "language_info": {
      "codemirror_mode": {
        "name": "ipython",
        "version": 3
      },
      "file_extension": ".py",
      "mimetype": "text/x-python",
      "name": "python",
      "nbconvert_exporter": "python",
      "pygments_lexer": "ipython3",
      "version": "3.7.4"
    },
    "colab": {
      "name": "RubyIntro.ipynb",
      "provenance": [],
      "collapsed_sections": []
    }
  },
  "nbformat": 4,
  "nbformat_minor": 0
}